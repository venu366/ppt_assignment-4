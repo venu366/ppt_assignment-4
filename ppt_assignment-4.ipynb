{
 "cells": [
  {
   "cell_type": "code",
   "execution_count": null,
   "id": "c18d22fc",
   "metadata": {},
   "outputs": [],
   "source": [
    "##1Q\n",
    "\n",
    "def findCommon(ar1, ar2, ar3, n1, n2, n3):\n",
    " \n",
    "    # Initialize starting indexes for ar1[], ar2[] and ar3[]\n",
    "    i, j, k = 0, 0, 0\n",
    " \n",
    "    # Iterate through three arrays while all arrays have elements\n",
    "    while (i < n1 and j < n2 and k < n3):\n",
    " \n",
    "        # If x = y and y = z, print any of them and move ahead\n",
    "        # in all arrays\n",
    "        if (ar1[i] == ar2[j] and ar2[j] == ar3[k]):\n",
    "            print ar1[i],\n",
    "            i += 1\n",
    "            j += 1\n",
    "            k += 1\n",
    " \n",
    "        # x < y\n",
    "        elif ar1[i] < ar2[j]:\n",
    "            i += 1\n",
    " \n",
    "        # y < z\n",
    "        elif ar2[j] < ar3[k]:\n",
    "            j += 1\n",
    " \n",
    "        # We reach here when x > y and z < y, i.e., z is smallest\n",
    "        else:\n",
    "            k += 1"
   ]
  },
  {
   "cell_type": "code",
   "execution_count": null,
   "id": "61adfe8a",
   "metadata": {},
   "outputs": [],
   "source": [
    "##2Q\n",
    "\n",
    "class Solution:\n",
    "    def findDifference(self, nums1: List[int], nums2: List[int]) -> List[List[int]]:\n",
    "        return [list(set(nums1).difference(nums2)), list(set(nums2).difference(nums1))]\n",
    "    \n"
   ]
  },
  {
   "cell_type": "code",
   "execution_count": null,
   "id": "a7b273df",
   "metadata": {},
   "outputs": [],
   "source": [
    "##3Q\n",
    "\n",
    "import numpy\n",
    "  \n",
    "l1= [[4, 5, 3, 9], [7, 1, 8, 2], [5, 6, 4, 7]]\n",
    "print(numpy.transpose(l1))"
   ]
  },
  {
   "cell_type": "code",
   "execution_count": null,
   "id": "c9f5029e",
   "metadata": {},
   "outputs": [],
   "source": [
    "##4Q\n",
    "\n",
    "class Solution(object):\n",
    "    def arrayPairSum(self, nums):\n",
    "        \n",
    "        nums.sort()\n",
    "        result = 0\n",
    "        numsLen = len(nums)\n",
    "        for i in range(0, numsLen - 1, 2):\n",
    "            result += nums[i]\n",
    "        return result"
   ]
  },
  {
   "cell_type": "code",
   "execution_count": null,
   "id": "269b529d",
   "metadata": {},
   "outputs": [],
   "source": [
    "##5Q\n",
    "\n",
    "class Solution:\n",
    "    \n",
    "    def arrangeCoins(int n):\n",
    "        int ans = 1\n",
    "    while(n > 0):\n",
    "        ans1+1\n",
    "        n = n-ans\n",
    "    return ans-1\n",
    "    \n"
   ]
  },
  {
   "cell_type": "code",
   "execution_count": null,
   "id": "c15fe96a",
   "metadata": {},
   "outputs": [],
   "source": [
    "##6Q\n",
    "\n",
    "def sortSquare(arr, n):\n",
    " \n",
    "    # First convert each array\n",
    "    # elements into its square\n",
    "    for i in range(n):\n",
    "        arr[i]= arr[i] * arr[i]\n",
    "    arr.sort()\n",
    " "
   ]
  },
  {
   "cell_type": "code",
   "execution_count": null,
   "id": "dfa9837d",
   "metadata": {},
   "outputs": [],
   "source": [
    "##7Q\n",
    "\n",
    "class Solution:\n",
    "    def maxCount(self, m: int, n: int, ops: List[List[int]]) -> int:\n",
    "        length = len(ops)\n",
    "        if length == 0:\n",
    "            return m*n\n",
    "        result = [ops[0][0] , ops[0][1]]\n",
    "        for i in range(1,length):\n",
    "            result[0] = min(result[0] , ops[i][0])\n",
    "            result[1] = min(result[1] , ops[i][1])\n",
    "        return result[0]*result[1] "
   ]
  },
  {
   "cell_type": "code",
   "execution_count": null,
   "id": "5751f789",
   "metadata": {},
   "outputs": [],
   "source": [
    "##8Q\n",
    "\n",
    "def shuffle(self, nums, n):\n",
    "        result = []\n",
    "        for index in range(n):\n",
    "            result.append(nums[index])\n",
    "            result.append(nums[index + n])\n",
    "        return result"
   ]
  }
 ],
 "metadata": {
  "kernelspec": {
   "display_name": "Python 3 (ipykernel)",
   "language": "python",
   "name": "python3"
  },
  "language_info": {
   "codemirror_mode": {
    "name": "ipython",
    "version": 3
   },
   "file_extension": ".py",
   "mimetype": "text/x-python",
   "name": "python",
   "nbconvert_exporter": "python",
   "pygments_lexer": "ipython3",
   "version": "3.9.12"
  }
 },
 "nbformat": 4,
 "nbformat_minor": 5
}
